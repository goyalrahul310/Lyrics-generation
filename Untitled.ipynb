{
 "cells": [
  {
   "cell_type": "code",
   "execution_count": 95,
   "metadata": {},
   "outputs": [],
   "source": [
    "import pandas as pd"
   ]
  },
  {
   "cell_type": "code",
   "execution_count": 96,
   "metadata": {},
   "outputs": [],
   "source": [
    "with open(\"Apna Time Aayega (1).txt\",encoding = \"utf8\") as f:\n",
    "    text = f.read().lower()\n"
   ]
  },
  {
   "cell_type": "code",
   "execution_count": 97,
   "metadata": {},
   "outputs": [
    {
     "data": {
      "text/plain": [
       "'apna time aayega\\nuth ja apni raakh se\\ntu udd ja ab talaash mein\\nparwaaz dekh parwane ki\\naasman bhi sar uthayega\\naayega apna time aayega\\nmere jaisa shaana lala\\ntujhe na mil payega\\n \\nyeh shabdon ka jwala\\nmeri bediyan pighlayega\\njitna toone boya hai tu\\nutna hi to khaayega\\naisa mera khwaab hai\\njo darr ko bhi satayega\\nzinda mera khwaab\\nab kaise tu dafnayega\\n \\nab hausle se jeene de\\nab khauf nahi hai seene mein\\nhar raaste ko cheerenge\\nhum kaamyabi chheenenge\\nsab kuchh mila paseene se\\nmatlab bana ab jeene mein\\n \\nkyon\\nkyon ki apna time aayega\\n \\ntu nanga hi to aaya hai\\nkya ghanta lekar jaayega\\napna time aayega\\napna time aayega\\napna time aayega x (2)\\n \\ntu nanga hi to aaya hai\\nkya ghanta lekar..\\n \\nkissi ka hath nahi tha sar par\\nyahaan par aaya khud ki mehnat se main\\njitni taakat kismat mein nahi\\nutni rehmat mein hai\\nphir bhi ladka sehmat nahin hai\\nkyon ki hairat nahi hai\\nzaroorat yahaan marzi ki\\naur jurrat ki hai\\n \\ntaakat ki hai, aafat ki\\nhimaakat ki, ibaadat ki\\nadalat yeh hai chahat ki\\nmohobbat ki, amaanat ki\\njeetne ki ab aadat ki hai\\nshohrat ki ab laalach nai hai\\ntere bhai jaisa koyi hard’ch nai hai\\n \\niss harkat ne hi barkat di hai\\nkyon?\\n \\ntu nanga hi to aaya hai\\nkya ghanta lekar jaayega\\napna time aayega\\napna time aayega\\napna time aayega\\n \\ntu nanga hi to aaya hai\\nkya ghanta lekar jaayega\\nkya tu ghanta lekar jaayega\\napna time aayega\\napna time aayega'"
      ]
     },
     "execution_count": 97,
     "metadata": {},
     "output_type": "execute_result"
    }
   ],
   "source": [
    "text"
   ]
  },
  {
   "cell_type": "code",
   "execution_count": 98,
   "metadata": {},
   "outputs": [],
   "source": [
    "def generatetable(text,k):\n",
    "    np.random.seed(11)\n",
    "    T = {}\n",
    "    for i in range(len(text)-k):\n",
    "        X =  text[i:i+k]\n",
    "        Y  = text[i+k]\n",
    "        if T.get(X) is None:\n",
    "            T[X] = {}\n",
    "            T[X][Y] = 1\n",
    "        elif T[X].get(Y) is None:\n",
    "            T[X][Y] = 1\n",
    "        else:\n",
    "            T[X][Y] += 1\n",
    "\n",
    "    return T"
   ]
  },
  {
   "cell_type": "code",
   "execution_count": 99,
   "metadata": {},
   "outputs": [],
   "source": [
    "T = generatetable(text,4)"
   ]
  },
  {
   "cell_type": "code",
   "execution_count": 100,
   "metadata": {},
   "outputs": [],
   "source": [
    "def freqtoprob():\n",
    "    for ix in T.keys():\n",
    "        s = sum(T[ix].values())\n",
    "        for jx in T[ix].keys():\n",
    "            T[ix][jx] /= s"
   ]
  },
  {
   "cell_type": "code",
   "execution_count": 101,
   "metadata": {},
   "outputs": [],
   "source": [
    "freqtoprob()"
   ]
  },
  {
   "cell_type": "code",
   "execution_count": 102,
   "metadata": {},
   "outputs": [],
   "source": [
    "import pandas as pd\n",
    "import numpy as np"
   ]
  },
  {
   "cell_type": "code",
   "execution_count": 103,
   "metadata": {},
   "outputs": [],
   "source": [
    "def sample_next(ctx,k):\n",
    "    ctx = ctx[-k:]\n",
    "    if T.get(ctx) is None:\n",
    "        return \" \"\n",
    "    word = list(T[ctx].keys())\n",
    "    prob = list(T[ctx].values())\n",
    "    return np.random.choice(word,p = prob)"
   ]
  },
  {
   "cell_type": "code",
   "execution_count": null,
   "metadata": {},
   "outputs": [],
   "source": []
  },
  {
   "cell_type": "code",
   "execution_count": 104,
   "metadata": {},
   "outputs": [],
   "source": [
    "def generate_text(sent,k,maxlen):\n",
    "    starting = sent\n",
    "    ctx = starting[-k:]\n",
    "    for ix in range(maxlen):\n",
    "        next_pred = sample_next(ctx,k)\n",
    "        sent += next_pred\n",
    "        ctx = sent[-k:]\n",
    "    return sent"
   ]
  },
  {
   "cell_type": "code",
   "execution_count": 105,
   "metadata": {},
   "outputs": [],
   "source": [
    "bot = generate_text(\"apna\",4,2000)"
   ]
  },
  {
   "cell_type": "code",
   "execution_count": null,
   "metadata": {},
   "outputs": [],
   "source": [
    "file1 = open(\"automatelyrics.txt\",\"w\")#write mode \n",
    "file1.write(\"T\") \n",
    "file1.close() "
   ]
  },
  {
   "cell_type": "code",
   "execution_count": null,
   "metadata": {},
   "outputs": [],
   "source": []
  },
  {
   "cell_type": "code",
   "execution_count": null,
   "metadata": {},
   "outputs": [],
   "source": []
  },
  {
   "cell_type": "code",
   "execution_count": null,
   "metadata": {},
   "outputs": [],
   "source": []
  },
  {
   "cell_type": "code",
   "execution_count": null,
   "metadata": {},
   "outputs": [],
   "source": []
  }
 ],
 "metadata": {
  "kernelspec": {
   "display_name": "Python 3",
   "language": "python",
   "name": "python3"
  },
  "language_info": {
   "codemirror_mode": {
    "name": "ipython",
    "version": 3
   },
   "file_extension": ".py",
   "mimetype": "text/x-python",
   "name": "python",
   "nbconvert_exporter": "python",
   "pygments_lexer": "ipython3",
   "version": "3.6.7"
  }
 },
 "nbformat": 4,
 "nbformat_minor": 2
}
